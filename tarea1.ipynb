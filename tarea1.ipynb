{
 "cells": [
  {
   "cell_type": "code",
   "execution_count": 3,
   "metadata": {},
   "outputs": [
    {
     "name": "stdout",
     "output_type": "stream",
     "text": [
      "usuario:diego\n",
      "usuario:alvro\n",
      "usuario:eroiu\n",
      "usuario:rotgio\n",
      "usuario:fgu\n",
      "¡hola!diego\n",
      "¡hola!alvro\n",
      "¡hola!eroiu\n",
      "¡hola!rotgio\n",
      "¡hola!fgu\n"
     ]
    }
   ],
   "source": [
    "#1ejer\n",
    "mylist=[]\n",
    "i=0\n",
    "while i<5:\n",
    "    usuario =input(\"usuario:\")\n",
    "    mylist.append(usuario)\n",
    "    i+=1\n",
    "for asistente in mylist:\n",
    "    print(\"¡hola!\",asistente)\n"
   ]
  },
  {
   "cell_type": "code",
   "execution_count": 1,
   "metadata": {},
   "outputs": [
    {
     "name": "stdout",
     "output_type": "stream",
     "text": [
      "(solo pares)tamaño de lista:3\n",
      "[8, 64, 216]\n",
      "valor inicial: 8 Ultimo valor: 216\n",
      "valores del centro: [64]\n"
     ]
    }
   ],
   "source": [
    "#3ejer\n",
    "n=int(input(\"(solo pares)tamaño de lista:\"))\n",
    "paresalcubo = [x**3 for x in range (2,int(n*2)+1,2) if x**3]\n",
    "print(paresalcubo)\n",
    "print(\"valor inicial:\",paresalcubo.pop(0),\"Ultimo valor:\",paresalcubo.pop(-1))\n",
    "print(\"valores del centro:\",paresalcubo)"
   ]
  },
  {
   "cell_type": "code",
   "execution_count": 1,
   "metadata": {},
   "outputs": [
    {
     "name": "stdout",
     "output_type": "stream",
     "text": [
      "ingrese  tamaño de lista3\n",
      "en la lista no se admiten nombres repetidos o de nombr admi\n",
      "ingrese un nombrediego\n",
      "ingrese un nombreadmi\n",
      "el suario es un nombre repetido o de nombre admi ingrese otro nombre!!:diego\n",
      "el suario es un nombre repetido o de nombre admi ingrese otro nombre!!:alber\n",
      "ingrese un nombretres\n",
      "la lista de usuarios es \n",
      "['diego', 'alber', 'tres']\n"
     ]
    }
   ],
   "source": [
    "#4ejer\n",
    "n=int(input(\"ingrese  tamaño de lista\" ))\n",
    "lista=[]            \n",
    "i=0\n",
    "print(\"en la lista no se admiten nombres repetidos o de nombr admi\")\n",
    "while i<n:\n",
    "    \n",
    "    usuario=input(\"ingrese un nombre\")\n",
    "    while usuario in lista or usuario.lower()==\"admi\": \n",
    "        usuario=input(\"el suario es un nombre repetido o de nombre admi ingrese otro nombre!!:\")\n",
    "    lista.append(usuario)\n",
    "    i+=1\n",
    "print(\"la lista de usuarios es \")    \n",
    "print(lista) "
   ]
  },
  {
   "cell_type": "code",
   "execution_count": null,
   "metadata": {},
   "outputs": [
    {
     "name": "stdout",
     "output_type": "stream",
     "text": [
      "ingrese nombrediego\n",
      "ingrese apellidoalvarez\n",
      "ingrese sexom\n",
      "ingrese edad20\n",
      "{'nombre': 'diego', 'apellido': 'alvarez', 'sexo': 'm', 'edad': '20'}\n",
      "agregar otra pregunta? si / no\n",
      "si\n",
      "diga cual\n",
      "color favorito\n",
      "respuesta\n",
      "azul\n",
      "{'nombre': 'diego', 'apellido': 'alvarez', 'sexo': 'm', 'edad': '20', 'color favorito': 'azul'}\n",
      "agregar otra pregunta? si / no\n",
      "no\n"
     ]
    }
   ],
   "source": [
    "#5ejer\n",
    "diccionario={}\n",
    "i=1\n",
    "while i!=0:\n",
    "    dato=input(\"ingrese nombre\")\n",
    "    diccionario[\"nombre\"]=dato.lower()\n",
    "    dato=input(\"ingrese apellido\")\n",
    "    diccionario[\"apellido\"]=dato.lower()\n",
    "    dato=input(\"ingrese sexo\")\n",
    "    diccionario[\"sexo\"]=dato.lower()\n",
    "    dato=input(\"ingrese edad\")\n",
    "    diccionario[\"edad\"]=dato.lower()\n",
    "    print(diccionario)\n",
    "    i+=1\n",
    "    n=1\n",
    "    while n!=0 :\n",
    "        dato= input(\"agregar otra pregunta? si / no\\n\")\n",
    "        dato= dato.lower()\n",
    "        if dato == 'si':\n",
    "            llave = input(\"diga cual\\n\")\n",
    "            valor = input(\"respuesta\\n\")\n",
    "            diccionario[llave] = valor\n",
    "            print(diccionario)\n",
    "        elif dato == 'no':\n",
    "            n=0\n",
    "            #break\n",
    "\n"
   ]
  },
  {
   "cell_type": "code",
   "execution_count": null,
   "metadata": {},
   "outputs": [
    {
     "name": "stdout",
     "output_type": "stream",
     "text": [
      " si quiere acabar la encuesta pona 1\n",
      "ponga un lugar favorito\n",
      "chile\n",
      "(veces que esta este dato) 1\n",
      "ponga un lugar favorito\n",
      "chile\n",
      "(veces que esta este dato) 2\n",
      "ponga un lugar favorito\n",
      "chile\n",
      "(veces que esta este dato) 3\n",
      "ponga un lugar favorito\n",
      "chile\n",
      "(veces que esta este dato) 4\n"
     ]
    }
   ],
   "source": [
    "#6ejer\n",
    "lista=[]\n",
    "dato=0\n",
    "\n",
    "print(\" si quiere acabar la encuesta pona 1\")\n",
    "while dato!=\"1\":\n",
    "    dato=input(\"ponga un lugar favorito\\n\")\n",
    "    lista.append(dato)\n",
    "    x=lista.count(dato)#contando cada dato\n",
    "    print(\"(veces que esta este dato)\",x) \n",
    "    \n",
    "   \n",
    "    "
   ]
  },
  {
   "cell_type": "code",
   "execution_count": 1,
   "metadata": {},
   "outputs": [
    {
     "name": "stdout",
     "output_type": "stream",
     "text": [
      "usuario:diego\n",
      "usuario:andres\n",
      "usuario:elfo\n",
      "usuario:caro\n",
      "usuario:derl\n",
      "['derl', 'caro', 'elfo', 'andres', 'diego']\n"
     ]
    }
   ],
   "source": [
    "#7ejer(1)\n",
    "mylist=[]\n",
    "i=0\n",
    "while i<5:\n",
    "    usuario =input(\"usuario:\")\n",
    "    mylist.append(usuario)\n",
    "    i+=1\n",
    "\n",
    "def reverselist():\n",
    "    for asistente in mylist:\n",
    "        mylist.reverse()#lista alreves\n",
    "        print(mylist)\n",
    "        break\n",
    "reverselist() \n",
    "\n",
    "            "
   ]
  },
  {
   "cell_type": "code",
   "execution_count": null,
   "metadata": {},
   "outputs": [],
   "source": []
  },
  {
   "cell_type": "code",
   "execution_count": null,
   "metadata": {},
   "outputs": [],
   "source": [
    "          "
   ]
  },
  {
   "cell_type": "code",
   "execution_count": 30,
   "metadata": {},
   "outputs": [],
   "source": [
    "           "
   ]
  },
  {
   "cell_type": "code",
   "execution_count": null,
   "metadata": {},
   "outputs": [],
   "source": []
  },
  {
   "cell_type": "code",
   "execution_count": null,
   "metadata": {},
   "outputs": [],
   "source": [
    " "
   ]
  },
  {
   "cell_type": "code",
   "execution_count": null,
   "metadata": {},
   "outputs": [],
   "source": []
  },
  {
   "cell_type": "code",
   "execution_count": null,
   "metadata": {},
   "outputs": [],
   "source": []
  },
  {
   "cell_type": "code",
   "execution_count": null,
   "metadata": {},
   "outputs": [],
   "source": []
  },
  {
   "cell_type": "code",
   "execution_count": null,
   "metadata": {},
   "outputs": [],
   "source": []
  },
  {
   "cell_type": "code",
   "execution_count": null,
   "metadata": {},
   "outputs": [],
   "source": []
  }
 ],
 "metadata": {
  "kernelspec": {
   "display_name": "Python 3",
   "language": "python",
   "name": "python3"
  },
  "language_info": {
   "codemirror_mode": {
    "name": "ipython",
    "version": 3
   },
   "file_extension": ".py",
   "mimetype": "text/x-python",
   "name": "python",
   "nbconvert_exporter": "python",
   "pygments_lexer": "ipython3",
   "version": "3.7.2"
  }
 },
 "nbformat": 4,
 "nbformat_minor": 2
}
